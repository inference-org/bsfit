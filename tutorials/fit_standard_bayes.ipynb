{
 "cells": [
  {
   "cell_type": "markdown",
   "metadata": {},
   "source": [
    "# Fit standard Bayesian model"
   ]
  },
  {
   "cell_type": "markdown",
   "metadata": {},
   "source": [
    "author: steeve laquitaine\n",
    "\n",
    "Fit the standard Bayesian model to psychophysics circular estimates and use it make predictions."
   ]
  },
  {
   "cell_type": "markdown",
   "metadata": {},
   "source": [
    "## Setup"
   ]
  },
  {
   "cell_type": "code",
   "execution_count": 24,
   "metadata": {},
   "outputs": [],
   "source": [
    "# go to the project's root path\n",
    "import os\n",
    "os.chdir(\"..\")"
   ]
  },
  {
   "cell_type": "code",
   "execution_count": 25,
   "metadata": {},
   "outputs": [
    {
     "name": "stdout",
     "output_type": "stream",
     "text": [
      "The autoreload extension is already loaded. To reload it, use:\n",
      "  %reload_ext autoreload\n"
     ]
    }
   ],
   "source": [
    "# import dependencies\n",
    "from bsfit.nodes.models.bayes import StandardBayes\n",
    "from bsfit.nodes.dataEng import (\n",
    "    simulate_dataset,\n",
    ")\n",
    "from bsfit.nodes.utils import (\n",
    "    get_data, get_data_stats, get_prediction_stats\n",
    ")\n",
    "from bsfit.nodes.viz.prediction import plot_mean\n",
    "%load_ext autoreload\n",
    "%autoreload 2"
   ]
  },
  {
   "cell_type": "markdown",
   "metadata": {},
   "source": [
    "## Set parameters"
   ]
  },
  {
   "cell_type": "code",
   "execution_count": 30,
   "metadata": {},
   "outputs": [],
   "source": [
    "# set the parameters\n",
    "SUBJECT = \"sub01\"\n",
    "PRIOR_SHAPE = \"vonMisesPrior\"\n",
    "PRIOR_MODE = 225\n",
    "OBJ_FUN = \"maxLLH\"\n",
    "READOUT = \"map\"\n",
    "PRIOR_NOISE = [80, 40]      # e.g., prior's std\n",
    "STIM_NOISE = [0.33, 0.66, 1.0]\n",
    "INIT_P = {\n",
    "    \"k_llh\": [1, 1, 1],\n",
    "    \"k_prior\": [1, 1],\n",
    "    \"k_card\": [1],\n",
    "    \"prior_tail\": [0],\n",
    "    \"p_rand\": [0],\n",
    "    \"k_m\": [0],\n",
    "}\n",
    "CENTERING = True"
   ]
  },
  {
   "cell_type": "markdown",
   "metadata": {},
   "source": [
    "## Simulate dataset"
   ]
  },
  {
   "cell_type": "code",
   "execution_count": 31,
   "metadata": {},
   "outputs": [],
   "source": [
    "# simulate a training dataset\n",
    "train_dataset = simulate_dataset(\n",
    "    stim_noise=STIM_NOISE,\n",
    "    prior_mode=PRIOR_MODE,\n",
    "    prior_noise=PRIOR_NOISE,\n",
    "    prior_shape=PRIOR_SHAPE,\n",
    ")\n",
    "\n",
    "# use the train dataset as test to show \n",
    "# best predictions\n",
    "test_dataset = get_data(train_dataset)"
   ]
  },
  {
   "cell_type": "markdown",
   "metadata": {},
   "source": [
    "## Train model and predict"
   ]
  },
  {
   "cell_type": "markdown",
   "metadata": {},
   "source": []
  },
  {
   "cell_type": "code",
   "execution_count": 33,
   "metadata": {},
   "outputs": [
    {
     "name": "stdout",
     "output_type": "stream",
     "text": [
      "Training the model ...\n",
      "\n",
      "\n",
      "Training is complete !\n"
     ]
    }
   ],
   "source": [
    "# instantiate the model\n",
    "model = StandardBayes(\n",
    "    prior_shape=PRIOR_SHAPE, \n",
    "    prior_mode=PRIOR_MODE, \n",
    "    readout=READOUT\n",
    "    )\n",
    "\n",
    "# train the model\n",
    "model = model.fit(dataset=train_dataset, init_p=INIT_P)"
   ]
  },
  {
   "cell_type": "code",
   "execution_count": 34,
   "metadata": {},
   "outputs": [
    {
     "name": "stdout",
     "output_type": "stream",
     "text": [
      "Calculating predictions ...\n",
      "\n",
      "-logl:3573.14, aic:7164.28, kl:[1 1 1], kp:[1 1], kc:[1], pt:0.00, pr:0.00, km:0.00\n",
      "predictions data: dict_keys(['PestimateGivenModel', 'map', 'conditions', 'prediction_mean', 'prediction_std', 'trial_pred'])\n"
     ]
    }
   ],
   "source": [
    "# get predictions\n",
    "output = model.predict(test_dataset, granularity=\"trial\")\n",
    "print(\"predictions data:\", output.keys())"
   ]
  },
  {
   "cell_type": "markdown",
   "metadata": {},
   "source": [
    "## Plot stats for data & predictions"
   ]
  },
  {
   "cell_type": "code",
   "execution_count": 35,
   "metadata": {},
   "outputs": [
    {
     "name": "stderr",
     "output_type": "stream",
     "text": [
      "/Users/steeve_laquitaine/Desktop/CodeHub/bsfit/bsfit/nodes/circpy.py:107: RuntimeWarning: divide by zero encountered in true_divide\n",
      "  ) -> dict:\n"
     ]
    },
    {
     "name": "stdout",
     "output_type": "stream",
     "text": [
      "HERE\n"
     ]
    }
   ],
   "source": [
    "# get data stats\n",
    "estimate = test_dataset[1]\n",
    "output = get_data_stats(estimate, output)\n",
    "\n",
    "# get prediction stats\n",
    "output = get_prediction_stats(output)"
   ]
  },
  {
   "cell_type": "code",
   "execution_count": 36,
   "metadata": {},
   "outputs": [
    {
     "data": {
      "image/png": "[encoded data removed]",
      "text/plain": [
       "<Figure size 432x288 with 3 Axes>"
      ]
     },
     "metadata": {
      "needs_background": "light"
     },
     "output_type": "display_data"
    }
   ],
   "source": [
    "plot_mean(\n",
    "    output[\"data_mean\"],\n",
    "    output[\"data_std\"],\n",
    "    output[\"prediction_mean\"],\n",
    "    output[\"prediction_std\"],\n",
    "    output[\"conditions\"],\n",
    "    prior_mode=PRIOR_MODE,\n",
    "    centering=CENTERING,\n",
    ")"
   ]
  },
  {
   "cell_type": "markdown",
   "metadata": {},
   "source": [
    "Tutorial complete !"
   ]
  }
 ],
 "metadata": {
  "interpreter": {
   "hash": "0507c4a5dba8cc78ffc9e7591f67998e41ff67b62ebde6bb6e1188b65782bda5"
  },
  "kernelspec": {
   "display_name": "Python 3.6.13 ('heuristic')",
   "language": "python",
   "name": "python3"
  },
  "language_info": {
   "codemirror_mode": {
    "name": "ipython",
    "version": 3
   },
   "file_extension": ".py",
   "mimetype": "text/x-python",
   "name": "python",
   "nbconvert_exporter": "python",
   "pygments_lexer": "ipython3",
   "version": "3.6.13"
  },
  "orig_nbformat": 4
 },
 "nbformat": 4,
 "nbformat_minor": 2
}
