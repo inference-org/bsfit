{
 "cells": [
  {
   "cell_type": "markdown",
   "metadata": {},
   "source": [
    "# Fit standard Bayesian model"
   ]
  },
  {
   "cell_type": "markdown",
   "metadata": {},
   "source": [
    "author: steeve laquitaine\n",
    "\n",
    "Fit the standard Bayesian model to psychophysics circular estimates and use it make predictions."
   ]
  },
  {
   "cell_type": "markdown",
   "metadata": {},
   "source": [
    "## Setup"
   ]
  },
  {
   "cell_type": "code",
   "execution_count": 41,
   "metadata": {},
   "outputs": [],
   "source": [
    "# go to the project's root path\n",
    "import os\n",
    "os.chdir(\"..\")\n",
    "\n",
    "# import dependencies\n",
    "from bsfit.nodes.models.bayes import StandardBayes\n",
    "from bsfit.nodes.dataEng import (\n",
    "    simulate_dataset,\n",
    ")\n",
    "from bsfit.nodes.utils import (\n",
    "    get_data,\n",
    ")"
   ]
  },
  {
   "cell_type": "markdown",
   "metadata": {},
   "source": [
    "## Set parameters"
   ]
  },
  {
   "cell_type": "code",
   "execution_count": 42,
   "metadata": {},
   "outputs": [],
   "source": [
    "# set the parameters\n",
    "SUBJECT = \"sub01\"\n",
    "PRIOR_SHAPE = \"vonMisesPrior\"\n",
    "PRIOR_MODE = 225\n",
    "OBJ_FUN = \"maxLLH\"\n",
    "READOUT = \"map\"\n",
    "PRIOR_NOISE = [80, 40]      # e.g., prior's std\n",
    "STIM_NOISE = [0.33, 0.66]   # e.g., motion's coherence"
   ]
  },
  {
   "cell_type": "markdown",
   "metadata": {},
   "source": [
    "## Simulate dataset"
   ]
  },
  {
   "cell_type": "code",
   "execution_count": 43,
   "metadata": {},
   "outputs": [],
   "source": [
    "# simulate a training dataset\n",
    "train_dataset = simulate_dataset(\n",
    "    stim_noise=STIM_NOISE,\n",
    "    prior_mode=PRIOR_MODE,\n",
    "    prior_noise=PRIOR_NOISE,\n",
    "    prior_shape=PRIOR_SHAPE,\n",
    ")\n",
    "\n",
    "# use the train dataset as test to show \n",
    "# best predictions\n",
    "test_dataset = get_data(train_dataset)"
   ]
  },
  {
   "cell_type": "code",
   "execution_count": 44,
   "metadata": {},
   "outputs": [
    {
     "name": "stdout",
     "output_type": "stream",
     "text": [
      "Training the model ...\n",
      "\n",
      "-logl:2382.09, aic:4780.18, kl:[1. 1.], kp:[1. 1.], kc:[1.], pt:0.00, pr:0.00, km:0.00\n",
      "-logl:2018.60, aic:4053.20, kl:[1.05 1.  ], kp:[1. 1.], kc:[1.], pt:0.00, pr:0.00, km:0.00\n",
      "-logl:2018.60, aic:4053.20, kl:[1.   1.05], kp:[1. 1.], kc:[1.], pt:0.00, pr:0.00, km:0.00\n",
      "-logl:2382.09, aic:4780.18, kl:[1. 1.], kp:[1.05 1.  ], kc:[1.], pt:0.00, pr:0.00, km:0.00\n",
      "-logl:126883.29, aic:253782.59, kl:[1. 1.], kp:[1.   1.05], kc:[1.], pt:0.00, pr:0.00, km:0.00\n",
      "-logl:2382.09, aic:4780.18, kl:[1. 1.], kp:[1. 1.], kc:[1.05], pt:0.00, pr:0.00, km:0.00\n",
      "-logl:2382.09, aic:4780.18, kl:[1. 1.], kp:[1. 1.], kc:[1.], pt:0.00, pr:0.00, km:0.00\n",
      "-logl:2371.37, aic:4758.74, kl:[1. 1.], kp:[1. 1.], kc:[1.], pt:0.00, pr:0.00, km:0.00\n",
      "-logl:2382.06, aic:4780.12, kl:[1. 1.], kp:[1. 1.], kc:[1.], pt:0.00, pr:0.00, km:0.00\n",
      "Warning: Maximum number of function evaluations has been exceeded.\n",
      "\n",
      "Training is complete !\n"
     ]
    }
   ],
   "source": [
    "# instantiate the model\n",
    "model = StandardBayes(\n",
    "    prior_shape=PRIOR_SHAPE, \n",
    "    prior_mode=PRIOR_MODE, \n",
    "    readout=READOUT\n",
    "    )\n",
    "\n",
    "# train the model\n",
    "model = model.fit(dataset=train_dataset)"
   ]
  },
  {
   "cell_type": "code",
   "execution_count": 40,
   "metadata": {},
   "outputs": [
    {
     "name": "stdout",
     "output_type": "stream",
     "text": [
      "Calculating predictions ...\n",
      "\n",
      "-logl:2018.60, aic:4053.20, kl:[1.05 1.  ], kp:[1. 1.], kc:[1.], pt:0.00, pr:0.00, km:0.00\n",
      "predictions data: dict_keys(['PestimateGivenModel', 'map', 'meanPred', 'stdPred', 'trial_pred'])\n"
     ]
    }
   ],
   "source": [
    "# get predictions\n",
    "output = model.predict(test_dataset, granularity=\"trial\")\n",
    "print(\"predictions data:\", output.keys())"
   ]
  },
  {
   "cell_type": "markdown",
   "metadata": {},
   "source": [
    "Tutorial complete !"
   ]
  }
 ],
 "metadata": {
  "interpreter": {
   "hash": "0507c4a5dba8cc78ffc9e7591f67998e41ff67b62ebde6bb6e1188b65782bda5"
  },
  "kernelspec": {
   "display_name": "Python 3.6.13 ('heuristic')",
   "language": "python",
   "name": "python3"
  },
  "language_info": {
   "codemirror_mode": {
    "name": "ipython",
    "version": 3
   },
   "file_extension": ".py",
   "mimetype": "text/x-python",
   "name": "python",
   "nbconvert_exporter": "python",
   "pygments_lexer": "ipython3",
   "version": "3.6.13"
  },
  "orig_nbformat": 4
 },
 "nbformat": 4,
 "nbformat_minor": 2
}
