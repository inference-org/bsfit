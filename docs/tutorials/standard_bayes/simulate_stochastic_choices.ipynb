{
 "cells": [
  {
   "cell_type": "markdown",
   "metadata": {},
   "source": [
    "# Simulate stochastic choices"
   ]
  },
  {
   "cell_type": "markdown",
   "metadata": {},
   "source": [
    "author: steeve laquitaine\n",
    "\n",
    "This tutorial simulates the stochastic choices made by a standard Bayesian model."
   ]
  },
  {
   "cell_type": "markdown",
   "metadata": {},
   "source": [
    "## Setup"
   ]
  },
  {
   "cell_type": "code",
   "execution_count": 3,
   "metadata": {},
   "outputs": [],
   "source": [
    "# go to the project's root path\n",
    "import os\n",
    "os.chdir(\"..\")"
   ]
  },
  {
   "cell_type": "code",
   "execution_count": 4,
   "metadata": {},
   "outputs": [
    {
     "name": "stdout",
     "output_type": "stream",
     "text": [
      "The autoreload extension is already loaded. To reload it, use:\n",
      "  %reload_ext autoreload\n"
     ]
    }
   ],
   "source": [
    "# import dependencies\n",
    "from bsfit.nodes.models.bayes import StandardBayes\n",
    "from bsfit.nodes.dataEng import (\n",
    "    simulate_task_conditions,\n",
    ")\n",
    "import pandas as pd\n",
    "%load_ext autoreload\n",
    "%autoreload 2"
   ]
  },
  {
   "cell_type": "markdown",
   "metadata": {},
   "source": [
    "## Set the parameters"
   ]
  },
  {
   "cell_type": "code",
   "execution_count": 11,
   "metadata": {},
   "outputs": [],
   "source": [
    "# set the parameters\n",
    "SUBJECT = \"sub01\"\n",
    "PRIOR_SHAPE = \"vonMisesPrior\"\n",
    "PRIOR_MODE = 225\n",
    "OBJ_FUN = \"maxLLH\"\n",
    "READOUT = \"map\"\n",
    "PRIOR_NOISE = [80, 40]      # e.g., prior's std\n",
    "STIM_NOISE = [0.33, 0.66, 1.0]\n",
    "SIM_P = {\n",
    "    \"k_llh\": [2.7, 10.7, 33],\n",
    "    \"k_prior\": [2.7, 33],\n",
    "    \"k_card\": [1],\n",
    "    \"prior_tail\": [0],\n",
    "    \"p_rand\": [0],\n",
    "    \"k_m\": [2000],\n",
    "}\n",
    "GRANULARITY = \"trial\"\n",
    "CENTERING = True\n",
    "N_REPEATS=5"
   ]
  },
  {
   "cell_type": "markdown",
   "metadata": {},
   "source": [
    "## Simulate task conditions (design matrix)"
   ]
  },
  {
   "cell_type": "code",
   "execution_count": 7,
   "metadata": {},
   "outputs": [],
   "source": [
    "# simulate task conditions\n",
    "conditions = simulate_task_conditions(\n",
    "    stim_noise=STIM_NOISE,\n",
    "    prior_mode=PRIOR_MODE,\n",
    "    prior_noise=PRIOR_NOISE,\n",
    "    prior_shape=PRIOR_SHAPE,\n",
    ")"
   ]
  },
  {
   "cell_type": "markdown",
   "metadata": {},
   "source": [
    "The task conditions are shown below."
   ]
  },
  {
   "cell_type": "code",
   "execution_count": 8,
   "metadata": {},
   "outputs": [
    {
     "data": {
      "text/html": [
       "<div>\n",
       "<style scoped>\n",
       "    .dataframe tbody tr th:only-of-type {\n",
       "        vertical-align: middle;\n",
       "    }\n",
       "\n",
       "    .dataframe tbody tr th {\n",
       "        vertical-align: top;\n",
       "    }\n",
       "\n",
       "    .dataframe thead th {\n",
       "        text-align: right;\n",
       "    }\n",
       "</style>\n",
       "<table border=\"1\" class=\"dataframe\">\n",
       "  <thead>\n",
       "    <tr style=\"text-align: right;\">\n",
       "      <th></th>\n",
       "      <th>stim_mean</th>\n",
       "      <th>stim_std</th>\n",
       "      <th>prior_mode</th>\n",
       "      <th>prior_std</th>\n",
       "      <th>prior_shape</th>\n",
       "    </tr>\n",
       "  </thead>\n",
       "  <tbody>\n",
       "    <tr>\n",
       "      <th>0</th>\n",
       "      <td>5</td>\n",
       "      <td>0.33</td>\n",
       "      <td>225</td>\n",
       "      <td>80</td>\n",
       "      <td>vonMisesPrior</td>\n",
       "    </tr>\n",
       "    <tr>\n",
       "      <th>1</th>\n",
       "      <td>10</td>\n",
       "      <td>0.33</td>\n",
       "      <td>225</td>\n",
       "      <td>80</td>\n",
       "      <td>vonMisesPrior</td>\n",
       "    </tr>\n",
       "    <tr>\n",
       "      <th>2</th>\n",
       "      <td>15</td>\n",
       "      <td>0.33</td>\n",
       "      <td>225</td>\n",
       "      <td>80</td>\n",
       "      <td>vonMisesPrior</td>\n",
       "    </tr>\n",
       "    <tr>\n",
       "      <th>3</th>\n",
       "      <td>20</td>\n",
       "      <td>0.33</td>\n",
       "      <td>225</td>\n",
       "      <td>80</td>\n",
       "      <td>vonMisesPrior</td>\n",
       "    </tr>\n",
       "    <tr>\n",
       "      <th>4</th>\n",
       "      <td>25</td>\n",
       "      <td>0.33</td>\n",
       "      <td>225</td>\n",
       "      <td>80</td>\n",
       "      <td>vonMisesPrior</td>\n",
       "    </tr>\n",
       "    <tr>\n",
       "      <th>...</th>\n",
       "      <td>...</td>\n",
       "      <td>...</td>\n",
       "      <td>...</td>\n",
       "      <td>...</td>\n",
       "      <td>...</td>\n",
       "    </tr>\n",
       "    <tr>\n",
       "      <th>67</th>\n",
       "      <td>340</td>\n",
       "      <td>1.00</td>\n",
       "      <td>225</td>\n",
       "      <td>40</td>\n",
       "      <td>vonMisesPrior</td>\n",
       "    </tr>\n",
       "    <tr>\n",
       "      <th>68</th>\n",
       "      <td>345</td>\n",
       "      <td>1.00</td>\n",
       "      <td>225</td>\n",
       "      <td>40</td>\n",
       "      <td>vonMisesPrior</td>\n",
       "    </tr>\n",
       "    <tr>\n",
       "      <th>69</th>\n",
       "      <td>350</td>\n",
       "      <td>1.00</td>\n",
       "      <td>225</td>\n",
       "      <td>40</td>\n",
       "      <td>vonMisesPrior</td>\n",
       "    </tr>\n",
       "    <tr>\n",
       "      <th>70</th>\n",
       "      <td>355</td>\n",
       "      <td>1.00</td>\n",
       "      <td>225</td>\n",
       "      <td>40</td>\n",
       "      <td>vonMisesPrior</td>\n",
       "    </tr>\n",
       "    <tr>\n",
       "      <th>71</th>\n",
       "      <td>360</td>\n",
       "      <td>1.00</td>\n",
       "      <td>225</td>\n",
       "      <td>40</td>\n",
       "      <td>vonMisesPrior</td>\n",
       "    </tr>\n",
       "  </tbody>\n",
       "</table>\n",
       "<p>432 rows × 5 columns</p>\n",
       "</div>"
      ],
      "text/plain": [
       "    stim_mean  stim_std  prior_mode  prior_std    prior_shape\n",
       "0           5      0.33         225         80  vonMisesPrior\n",
       "1          10      0.33         225         80  vonMisesPrior\n",
       "2          15      0.33         225         80  vonMisesPrior\n",
       "3          20      0.33         225         80  vonMisesPrior\n",
       "4          25      0.33         225         80  vonMisesPrior\n",
       "..        ...       ...         ...        ...            ...\n",
       "67        340      1.00         225         40  vonMisesPrior\n",
       "68        345      1.00         225         40  vonMisesPrior\n",
       "69        350      1.00         225         40  vonMisesPrior\n",
       "70        355      1.00         225         40  vonMisesPrior\n",
       "71        360      1.00         225         40  vonMisesPrior\n",
       "\n",
       "[432 rows x 5 columns]"
      ]
     },
     "execution_count": 8,
     "metadata": {},
     "output_type": "execute_result"
    }
   ],
   "source": [
    "conditions"
   ]
  },
  {
   "cell_type": "markdown",
   "metadata": {},
   "source": [
    "## Simulate stochastic choices"
   ]
  },
  {
   "cell_type": "code",
   "execution_count": 12,
   "metadata": {},
   "outputs": [
    {
     "name": "stdout",
     "output_type": "stream",
     "text": [
      "Running simulation ...\n",
      "\n",
      "-logl:nan, aic:nan, kl:[ 2.7 10.7 33. ], kp:[ 2.7 33. ], kc:[1.], pt:0.00, pr:0.00, km:2000.00\n"
     ]
    }
   ],
   "source": [
    "# instantiate the model\n",
    "model = StandardBayes(\n",
    "    prior_shape=PRIOR_SHAPE, \n",
    "    prior_mode=PRIOR_MODE, \n",
    "    readout=READOUT\n",
    "    )\n",
    "\n",
    "# simulate trial predictions\n",
    "output = model.simulate(\n",
    "    dataset=conditions,\n",
    "    sim_p=SIM_P,\n",
    "    granularity=GRANULARITY,\n",
    "    centering=CENTERING,\n",
    "    n_repeats=N_REPEATS\n",
    ")"
   ]
  },
  {
   "cell_type": "markdown",
   "metadata": {},
   "source": [
    "The simulated dataset is shown below."
   ]
  },
  {
   "cell_type": "code",
   "execution_count": 13,
   "metadata": {},
   "outputs": [
    {
     "data": {
      "text/html": [
       "<div>\n",
       "<style scoped>\n",
       "    .dataframe tbody tr th:only-of-type {\n",
       "        vertical-align: middle;\n",
       "    }\n",
       "\n",
       "    .dataframe tbody tr th {\n",
       "        vertical-align: top;\n",
       "    }\n",
       "\n",
       "    .dataframe thead th {\n",
       "        text-align: right;\n",
       "    }\n",
       "</style>\n",
       "<table border=\"1\" class=\"dataframe\">\n",
       "  <thead>\n",
       "    <tr style=\"text-align: right;\">\n",
       "      <th></th>\n",
       "      <th>stim_mean</th>\n",
       "      <th>stim_std</th>\n",
       "      <th>prior_mode</th>\n",
       "      <th>prior_std</th>\n",
       "      <th>prior_shape</th>\n",
       "      <th>estimate</th>\n",
       "    </tr>\n",
       "  </thead>\n",
       "  <tbody>\n",
       "    <tr>\n",
       "      <th>0</th>\n",
       "      <td>5</td>\n",
       "      <td>0.33</td>\n",
       "      <td>225</td>\n",
       "      <td>80.0</td>\n",
       "      <td>vonMisesPrior</td>\n",
       "      <td>3</td>\n",
       "    </tr>\n",
       "    <tr>\n",
       "      <th>1</th>\n",
       "      <td>5</td>\n",
       "      <td>0.33</td>\n",
       "      <td>225</td>\n",
       "      <td>80.0</td>\n",
       "      <td>vonMisesPrior</td>\n",
       "      <td>9</td>\n",
       "    </tr>\n",
       "    <tr>\n",
       "      <th>2</th>\n",
       "      <td>5</td>\n",
       "      <td>0.33</td>\n",
       "      <td>225</td>\n",
       "      <td>80.0</td>\n",
       "      <td>vonMisesPrior</td>\n",
       "      <td>15</td>\n",
       "    </tr>\n",
       "    <tr>\n",
       "      <th>3</th>\n",
       "      <td>5</td>\n",
       "      <td>0.33</td>\n",
       "      <td>225</td>\n",
       "      <td>80.0</td>\n",
       "      <td>vonMisesPrior</td>\n",
       "      <td>5</td>\n",
       "    </tr>\n",
       "    <tr>\n",
       "      <th>4</th>\n",
       "      <td>5</td>\n",
       "      <td>0.33</td>\n",
       "      <td>225</td>\n",
       "      <td>80.0</td>\n",
       "      <td>vonMisesPrior</td>\n",
       "      <td>9</td>\n",
       "    </tr>\n",
       "    <tr>\n",
       "      <th>...</th>\n",
       "      <td>...</td>\n",
       "      <td>...</td>\n",
       "      <td>...</td>\n",
       "      <td>...</td>\n",
       "      <td>...</td>\n",
       "      <td>...</td>\n",
       "    </tr>\n",
       "    <tr>\n",
       "      <th>2155</th>\n",
       "      <td>360</td>\n",
       "      <td>1.00</td>\n",
       "      <td>225</td>\n",
       "      <td>40.0</td>\n",
       "      <td>vonMisesPrior</td>\n",
       "      <td>223</td>\n",
       "    </tr>\n",
       "    <tr>\n",
       "      <th>2156</th>\n",
       "      <td>360</td>\n",
       "      <td>1.00</td>\n",
       "      <td>225</td>\n",
       "      <td>40.0</td>\n",
       "      <td>vonMisesPrior</td>\n",
       "      <td>229</td>\n",
       "    </tr>\n",
       "    <tr>\n",
       "      <th>2157</th>\n",
       "      <td>360</td>\n",
       "      <td>1.00</td>\n",
       "      <td>225</td>\n",
       "      <td>40.0</td>\n",
       "      <td>vonMisesPrior</td>\n",
       "      <td>223</td>\n",
       "    </tr>\n",
       "    <tr>\n",
       "      <th>2158</th>\n",
       "      <td>360</td>\n",
       "      <td>1.00</td>\n",
       "      <td>225</td>\n",
       "      <td>40.0</td>\n",
       "      <td>vonMisesPrior</td>\n",
       "      <td>228</td>\n",
       "    </tr>\n",
       "    <tr>\n",
       "      <th>2159</th>\n",
       "      <td>360</td>\n",
       "      <td>1.00</td>\n",
       "      <td>225</td>\n",
       "      <td>40.0</td>\n",
       "      <td>vonMisesPrior</td>\n",
       "      <td>228</td>\n",
       "    </tr>\n",
       "  </tbody>\n",
       "</table>\n",
       "<p>2160 rows × 6 columns</p>\n",
       "</div>"
      ],
      "text/plain": [
       "      stim_mean  stim_std  prior_mode  prior_std    prior_shape  estimate\n",
       "0             5      0.33         225       80.0  vonMisesPrior         3\n",
       "1             5      0.33         225       80.0  vonMisesPrior         9\n",
       "2             5      0.33         225       80.0  vonMisesPrior        15\n",
       "3             5      0.33         225       80.0  vonMisesPrior         5\n",
       "4             5      0.33         225       80.0  vonMisesPrior         9\n",
       "...         ...       ...         ...        ...            ...       ...\n",
       "2155        360      1.00         225       40.0  vonMisesPrior       223\n",
       "2156        360      1.00         225       40.0  vonMisesPrior       229\n",
       "2157        360      1.00         225       40.0  vonMisesPrior       223\n",
       "2158        360      1.00         225       40.0  vonMisesPrior       228\n",
       "2159        360      1.00         225       40.0  vonMisesPrior       228\n",
       "\n",
       "[2160 rows x 6 columns]"
      ]
     },
     "execution_count": 13,
     "metadata": {},
     "output_type": "execute_result"
    }
   ],
   "source": [
    "output[\"dataset\"]"
   ]
  },
  {
   "cell_type": "markdown",
   "metadata": {},
   "source": [
    "### Calculate estimate choice statistics"
   ]
  },
  {
   "cell_type": "code",
   "execution_count": 14,
   "metadata": {},
   "outputs": [
    {
     "name": "stdout",
     "output_type": "stream",
     "text": [
      "Running simulation ...\n",
      "\n",
      "Calculating predictions ...\n",
      "\n",
      "-logl:47038.38, aic:94094.75, kl:[ 2.7 10.7 33. ], kp:[ 2.7 33. ], kc:[1.], pt:0.00, pr:0.00, km:2000.00\n"
     ]
    },
    {
     "data": {
      "image/png": "[encoded data removed]",
      "text/plain": [
       "<Figure size 1080x360 with 3 Axes>"
      ]
     },
     "metadata": {
      "needs_background": "light"
     },
     "output_type": "display_data"
    }
   ],
   "source": [
    "# simulate predictions\n",
    "from matplotlib import pyplot as plt\n",
    "plt.figure(figsize=(15,5))\n",
    "\n",
    "model = model.simulate(\n",
    "    dataset=output[\"dataset\"],\n",
    "    sim_p=SIM_P,\n",
    "    granularity=\"mean\",\n",
    "    centering=CENTERING,\n",
    ")"
   ]
  },
  {
   "cell_type": "markdown",
   "metadata": {},
   "source": [
    "An preview of the unique 431 combinations of task conditions (prior noise, stimulus noise, stimulus feature) are shown below:"
   ]
  },
  {
   "cell_type": "code",
   "execution_count": 15,
   "metadata": {},
   "outputs": [
    {
     "data": {
      "text/html": [
       "<div>\n",
       "<style scoped>\n",
       "    .dataframe tbody tr th:only-of-type {\n",
       "        vertical-align: middle;\n",
       "    }\n",
       "\n",
       "    .dataframe tbody tr th {\n",
       "        vertical-align: top;\n",
       "    }\n",
       "\n",
       "    .dataframe thead th {\n",
       "        text-align: right;\n",
       "    }\n",
       "</style>\n",
       "<table border=\"1\" class=\"dataframe\">\n",
       "  <thead>\n",
       "    <tr style=\"text-align: right;\">\n",
       "      <th></th>\n",
       "      <th>0</th>\n",
       "      <th>1</th>\n",
       "      <th>2</th>\n",
       "    </tr>\n",
       "  </thead>\n",
       "  <tbody>\n",
       "    <tr>\n",
       "      <th>0</th>\n",
       "      <td>80.0</td>\n",
       "      <td>0.33</td>\n",
       "      <td>5.0</td>\n",
       "    </tr>\n",
       "    <tr>\n",
       "      <th>1</th>\n",
       "      <td>80.0</td>\n",
       "      <td>0.33</td>\n",
       "      <td>10.0</td>\n",
       "    </tr>\n",
       "    <tr>\n",
       "      <th>2</th>\n",
       "      <td>80.0</td>\n",
       "      <td>0.33</td>\n",
       "      <td>15.0</td>\n",
       "    </tr>\n",
       "    <tr>\n",
       "      <th>3</th>\n",
       "      <td>80.0</td>\n",
       "      <td>0.33</td>\n",
       "      <td>20.0</td>\n",
       "    </tr>\n",
       "    <tr>\n",
       "      <th>4</th>\n",
       "      <td>80.0</td>\n",
       "      <td>0.33</td>\n",
       "      <td>25.0</td>\n",
       "    </tr>\n",
       "  </tbody>\n",
       "</table>\n",
       "</div>"
      ],
      "text/plain": [
       "      0     1     2\n",
       "0  80.0  0.33   5.0\n",
       "1  80.0  0.33  10.0\n",
       "2  80.0  0.33  15.0\n",
       "3  80.0  0.33  20.0\n",
       "4  80.0  0.33  25.0"
      ]
     },
     "execution_count": 15,
     "metadata": {},
     "output_type": "execute_result"
    }
   ],
   "source": [
    "pd.DataFrame(output[\"conditions\"]).head()"
   ]
  },
  {
   "cell_type": "markdown",
   "metadata": {},
   "source": [
    "**Model's estimate generative probability density**: the probability that the model generates each estimate is shown below, \n",
    "with the estimates ranging from 0 to 359 in the rows and each unique 431 combinations (prior noise, stimulus noise, stimulus feature) in the columns:"
   ]
  },
  {
   "cell_type": "code",
   "execution_count": 16,
   "metadata": {},
   "outputs": [
    {
     "data": {
      "text/html": [
       "<div>\n",
       "<style scoped>\n",
       "    .dataframe tbody tr th:only-of-type {\n",
       "        vertical-align: middle;\n",
       "    }\n",
       "\n",
       "    .dataframe tbody tr th {\n",
       "        vertical-align: top;\n",
       "    }\n",
       "\n",
       "    .dataframe thead th {\n",
       "        text-align: right;\n",
       "    }\n",
       "</style>\n",
       "<table border=\"1\" class=\"dataframe\">\n",
       "  <thead>\n",
       "    <tr style=\"text-align: right;\">\n",
       "      <th></th>\n",
       "      <th>0</th>\n",
       "      <th>1</th>\n",
       "      <th>2</th>\n",
       "      <th>3</th>\n",
       "      <th>4</th>\n",
       "      <th>5</th>\n",
       "      <th>6</th>\n",
       "      <th>7</th>\n",
       "      <th>8</th>\n",
       "      <th>9</th>\n",
       "      <th>...</th>\n",
       "      <th>422</th>\n",
       "      <th>423</th>\n",
       "      <th>424</th>\n",
       "      <th>425</th>\n",
       "      <th>426</th>\n",
       "      <th>427</th>\n",
       "      <th>428</th>\n",
       "      <th>429</th>\n",
       "      <th>430</th>\n",
       "      <th>431</th>\n",
       "    </tr>\n",
       "  </thead>\n",
       "  <tbody>\n",
       "    <tr>\n",
       "      <th>0</th>\n",
       "      <td>0.039645</td>\n",
       "      <td>0.033255</td>\n",
       "      <td>0.021730</td>\n",
       "      <td>0.011097</td>\n",
       "      <td>0.004451</td>\n",
       "      <td>0.001412</td>\n",
       "      <td>0.000358</td>\n",
       "      <td>0.000073</td>\n",
       "      <td>0.000012</td>\n",
       "      <td>0.000002</td>\n",
       "      <td>...</td>\n",
       "      <td>9.999889e-320</td>\n",
       "      <td>2.852656e-18</td>\n",
       "      <td>9.999889e-320</td>\n",
       "      <td>9.999889e-320</td>\n",
       "      <td>9.999889e-320</td>\n",
       "      <td>2.312965e-19</td>\n",
       "      <td>2.852656e-18</td>\n",
       "      <td>9.999889e-320</td>\n",
       "      <td>4.240435e-19</td>\n",
       "      <td>4.625929e-19</td>\n",
       "    </tr>\n",
       "    <tr>\n",
       "      <th>1</th>\n",
       "      <td>0.039845</td>\n",
       "      <td>0.035143</td>\n",
       "      <td>0.024135</td>\n",
       "      <td>0.012943</td>\n",
       "      <td>0.005446</td>\n",
       "      <td>0.001810</td>\n",
       "      <td>0.000479</td>\n",
       "      <td>0.000102</td>\n",
       "      <td>0.000018</td>\n",
       "      <td>0.000003</td>\n",
       "      <td>...</td>\n",
       "      <td>2.235866e-18</td>\n",
       "      <td>2.621360e-18</td>\n",
       "      <td>9.999889e-320</td>\n",
       "      <td>9.999889e-320</td>\n",
       "      <td>1.195032e-18</td>\n",
       "      <td>3.854941e-20</td>\n",
       "      <td>9.999889e-320</td>\n",
       "      <td>9.999889e-320</td>\n",
       "      <td>1.850372e-18</td>\n",
       "      <td>7.324388e-19</td>\n",
       "    </tr>\n",
       "    <tr>\n",
       "      <th>2</th>\n",
       "      <td>0.039645</td>\n",
       "      <td>0.036767</td>\n",
       "      <td>0.026542</td>\n",
       "      <td>0.014951</td>\n",
       "      <td>0.006600</td>\n",
       "      <td>0.002298</td>\n",
       "      <td>0.000636</td>\n",
       "      <td>0.000141</td>\n",
       "      <td>0.000025</td>\n",
       "      <td>0.000004</td>\n",
       "      <td>...</td>\n",
       "      <td>9.999889e-320</td>\n",
       "      <td>1.888921e-18</td>\n",
       "      <td>9.999889e-320</td>\n",
       "      <td>8.480870e-19</td>\n",
       "      <td>1.272131e-18</td>\n",
       "      <td>2.052756e-18</td>\n",
       "      <td>9.999889e-320</td>\n",
       "      <td>9.999889e-320</td>\n",
       "      <td>9.999889e-320</td>\n",
       "      <td>3.180326e-18</td>\n",
       "    </tr>\n",
       "    <tr>\n",
       "      <th>3</th>\n",
       "      <td>0.039052</td>\n",
       "      <td>0.038083</td>\n",
       "      <td>0.028900</td>\n",
       "      <td>0.017102</td>\n",
       "      <td>0.007924</td>\n",
       "      <td>0.002891</td>\n",
       "      <td>0.000837</td>\n",
       "      <td>0.000194</td>\n",
       "      <td>0.000036</td>\n",
       "      <td>0.000006</td>\n",
       "      <td>...</td>\n",
       "      <td>8.866364e-19</td>\n",
       "      <td>1.002285e-17</td>\n",
       "      <td>2.852656e-18</td>\n",
       "      <td>9.999889e-320</td>\n",
       "      <td>9.999889e-320</td>\n",
       "      <td>1.927471e-19</td>\n",
       "      <td>9.999889e-320</td>\n",
       "      <td>4.471732e-18</td>\n",
       "      <td>9.999889e-320</td>\n",
       "      <td>9.999889e-320</td>\n",
       "    </tr>\n",
       "    <tr>\n",
       "      <th>4</th>\n",
       "      <td>0.038083</td>\n",
       "      <td>0.039052</td>\n",
       "      <td>0.031156</td>\n",
       "      <td>0.019373</td>\n",
       "      <td>0.009422</td>\n",
       "      <td>0.003604</td>\n",
       "      <td>0.001092</td>\n",
       "      <td>0.000265</td>\n",
       "      <td>0.000052</td>\n",
       "      <td>0.000008</td>\n",
       "      <td>...</td>\n",
       "      <td>9.406056e-18</td>\n",
       "      <td>9.999889e-320</td>\n",
       "      <td>9.999889e-320</td>\n",
       "      <td>1.696174e-18</td>\n",
       "      <td>9.999889e-320</td>\n",
       "      <td>4.625929e-18</td>\n",
       "      <td>9.999889e-320</td>\n",
       "      <td>7.709882e-19</td>\n",
       "      <td>9.999889e-320</td>\n",
       "      <td>9.999889e-320</td>\n",
       "    </tr>\n",
       "  </tbody>\n",
       "</table>\n",
       "<p>5 rows × 432 columns</p>\n",
       "</div>"
      ],
      "text/plain": [
       "        0         1         2         3         4         5         6    \\\n",
       "0  0.039645  0.033255  0.021730  0.011097  0.004451  0.001412  0.000358   \n",
       "1  0.039845  0.035143  0.024135  0.012943  0.005446  0.001810  0.000479   \n",
       "2  0.039645  0.036767  0.026542  0.014951  0.006600  0.002298  0.000636   \n",
       "3  0.039052  0.038083  0.028900  0.017102  0.007924  0.002891  0.000837   \n",
       "4  0.038083  0.039052  0.031156  0.019373  0.009422  0.003604  0.001092   \n",
       "\n",
       "        7         8         9    ...            422            423  \\\n",
       "0  0.000073  0.000012  0.000002  ...  9.999889e-320   2.852656e-18   \n",
       "1  0.000102  0.000018  0.000003  ...   2.235866e-18   2.621360e-18   \n",
       "2  0.000141  0.000025  0.000004  ...  9.999889e-320   1.888921e-18   \n",
       "3  0.000194  0.000036  0.000006  ...   8.866364e-19   1.002285e-17   \n",
       "4  0.000265  0.000052  0.000008  ...   9.406056e-18  9.999889e-320   \n",
       "\n",
       "             424            425            426           427            428  \\\n",
       "0  9.999889e-320  9.999889e-320  9.999889e-320  2.312965e-19   2.852656e-18   \n",
       "1  9.999889e-320  9.999889e-320   1.195032e-18  3.854941e-20  9.999889e-320   \n",
       "2  9.999889e-320   8.480870e-19   1.272131e-18  2.052756e-18  9.999889e-320   \n",
       "3   2.852656e-18  9.999889e-320  9.999889e-320  1.927471e-19  9.999889e-320   \n",
       "4  9.999889e-320   1.696174e-18  9.999889e-320  4.625929e-18  9.999889e-320   \n",
       "\n",
       "             429            430            431  \n",
       "0  9.999889e-320   4.240435e-19   4.625929e-19  \n",
       "1  9.999889e-320   1.850372e-18   7.324388e-19  \n",
       "2  9.999889e-320  9.999889e-320   3.180326e-18  \n",
       "3   4.471732e-18  9.999889e-320  9.999889e-320  \n",
       "4   7.709882e-19  9.999889e-320  9.999889e-320  \n",
       "\n",
       "[5 rows x 432 columns]"
      ]
     },
     "execution_count": 16,
     "metadata": {},
     "output_type": "execute_result"
    }
   ],
   "source": [
    "pd.DataFrame(output[\"PestimateGivenModel\"]).head()"
   ]
  },
  {
   "cell_type": "markdown",
   "metadata": {},
   "source": [
    "Here is a list of the attributes generated by the simulation:"
   ]
  },
  {
   "cell_type": "code",
   "execution_count": 17,
   "metadata": {},
   "outputs": [
    {
     "data": {
      "text/plain": [
       "['PestimateGivenModel',\n",
       " 'map',\n",
       " 'conditions',\n",
       " 'prediction_mean',\n",
       " 'prediction_std',\n",
       " 'dataset']"
      ]
     },
     "execution_count": 17,
     "metadata": {},
     "output_type": "execute_result"
    }
   ],
   "source": [
    "list(output.keys())"
   ]
  },
  {
   "cell_type": "markdown",
   "metadata": {},
   "source": [
    "Tutorial complete !"
   ]
  }
 ],
 "metadata": {
  "interpreter": {
   "hash": "0507c4a5dba8cc78ffc9e7591f67998e41ff67b62ebde6bb6e1188b65782bda5"
  },
  "kernelspec": {
   "display_name": "Python 3.6.13 ('heuristic')",
   "language": "python",
   "name": "python3"
  },
  "language_info": {
   "codemirror_mode": {
    "name": "ipython",
    "version": 3
   },
   "file_extension": ".py",
   "mimetype": "text/x-python",
   "name": "python",
   "nbconvert_exporter": "python",
   "pygments_lexer": "ipython3",
   "version": "3.6.13"
  }
 },
 "nbformat": 4,
 "nbformat_minor": 2
}
